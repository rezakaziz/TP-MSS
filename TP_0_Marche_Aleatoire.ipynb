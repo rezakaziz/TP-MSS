{
  "nbformat": 4,
  "nbformat_minor": 0,
  "metadata": {
    "colab": {
      "name": "TP-0: Marche Aleatoire",
      "provenance": [],
      "collapsed_sections": []
    },
    "kernelspec": {
      "name": "python3",
      "display_name": "Python 3"
    },
    "language_info": {
      "name": "python"
    }
  },
  "cells": [
    {
      "cell_type": "markdown",
      "metadata": {
        "id": "7Gy4EUZqTW-P"
      },
      "source": [
        "#TP Marches Aléatoire\n",
        "Nom: AZIZ\n",
        "Prénom: Rezak\n",
        "Groupe: SIQ3"
      ]
    },
    {
      "cell_type": "markdown",
      "metadata": {
        "id": "U-tK039Xfwye"
      },
      "source": [
        "#TP0\n",
        "Considérons une marche aléatoire avec 10 états {0, 1, 2, ..., 10} qui se termine\n",
        "lorsque 0 ou 10 est atteint. Les états 0 et 10 seraient des états absorbants.\n",
        "\n",
        "---\n",
        "\n",
        "simuler la marche aléatoire et estimez la probabilité que la marche aléatoire\n",
        "se termine à l’état 0 pour l’état initial \"a\" donné et la probabilité p d’un pas vers\n",
        "la droite."
      ]
    },
    {
      "cell_type": "code",
      "metadata": {
        "colab": {
          "base_uri": "https://localhost:8080/"
        },
        "id": "45LdCRl1V_Rp",
        "outputId": "536c11cd-2e95-4247-dd42-a805f48b5108"
      },
      "source": [
        "import random as rn\n",
        "def simulerMA(etatInitial,p):\n",
        "  X=etatInitial\n",
        "  listeEtat=[X]\n",
        "  while X!=0 and X!=10:\n",
        "    u=rn.uniform(0,1)\n",
        "    if u<p:\n",
        "      X+=1\n",
        "      listeEtat.append(X)\n",
        "    else:\n",
        "      X-=1\n",
        "      listeEtat.append(X)\n",
        "  return listeEtat\n",
        "\n",
        "def estimerProba0(etatInitial,p,n):\n",
        "  n0=0\n",
        "  for i in range(n):\n",
        "    listeEtat=simulerMA(etatInitial,p)\n",
        "    if listeEtat[len(listeEtat)-1]==0:\n",
        "      n0+=1\n",
        "  return n0/n\n",
        "\n",
        "print(\"Probabilité que la MA se termine à l'etat 0 partant de 5 et d'une proba de 0.4 de partir à droite\",estimerProba0(5,0.4,1000000))"
      ],
      "execution_count": null,
      "outputs": [
        {
          "output_type": "stream",
          "text": [
            "Probabilité que la MA se termine à l'etat 0 partant de 5 et d'une proba de 0.4 de partir à droite 0.883814\n"
          ],
          "name": "stdout"
        }
      ]
    },
    {
      "cell_type": "code",
      "metadata": {
        "id": "CRLLsiE4WAvF"
      },
      "source": [
        "\n",
        "\n",
        "\n",
        "\n",
        "\n"
      ],
      "execution_count": null,
      "outputs": []
    },
    {
      "cell_type": "markdown",
      "metadata": {
        "id": "vT7cim5B_TlA"
      },
      "source": [
        "#TP1\n",
        "Soit τ la variable aléatoire du premier retour en 0.\n",
        "$$P (τ = 2k) = P (S_1 \\neq 0, S_2\\neq  0, .., S_{2k−1}\\neq  0, S_{2k} = 0) = \\frac{1}{2k-1}\\frac{1}{2^{2k}}C^k_{2k}$$\n",
        "\n",
        "\n",
        "\n",
        "Tracer l’ histogramme de cette distribution et la fonction de répartition. Commentez"
      ]
    },
    {
      "cell_type": "code",
      "metadata": {
        "colab": {
          "base_uri": "https://localhost:8080/",
          "height": 325
        },
        "id": "5Ccfa1DViIoH",
        "outputId": "fe2b0e66-b523-4b22-aac0-84755de0536b"
      },
      "source": [
        "#tracez l'histogrammer et la fonctin de répartition\n",
        "import math\n",
        "import numpy as np\n",
        "import matplotlib.pyplot as plt\n",
        "def nCr(n,r):\n",
        "  return math.factorial(n)/(math.factorial(r)*math.factorial(n-r))\n",
        "\n",
        "def proba_retour0(k):\n",
        "  if k==0:\n",
        "    return 1\n",
        "  comb=nCr(2*k,k)\n",
        "  return (comb/(2*k-1))/2**(2*k)\n",
        "\n",
        "def fonction_repartition(k_array):\n",
        "  cumu=[0]\n",
        "  for i in range(len(k_array)):\n",
        "    cumu.append(cumu[i]+k_array[i])\n",
        "  return cumu\n",
        "x1=[i for i in range(1,100)]\n",
        "k_array=[proba_retour0(k) for k in range(1,100)]\n",
        "x2=[i for i in range(100)]\n",
        "cumu=fonction_repartition(k_array)\n",
        "\n",
        "\n",
        "\n",
        "plt.figure(1,figsize=(5,8))\n",
        "plt.gcf().subplots_adjust(left = 0.1, bottom = 0.5, right = 1.5,top = 0.9, wspace = 0.5, hspace = 0)\n",
        "\n",
        "\n",
        "plt.subplot(1,2,1)\n",
        "plt.bar(x1,k_array)\n",
        "plt.title('Histogramme de la destribution')\n",
        "plt.grid()\n",
        "plt.xlabel('k')\n",
        "plt.ylabel('P(2k)')\n",
        "plt.ylim(0)\n",
        "\n",
        "plt.subplot(1,2,2)\n",
        "plt.plot(x2,cumu)\n",
        "plt.title('fonction de répartion')\n",
        "plt.grid()\n",
        "plt.xlabel('k')\n",
        "plt.ylabel('P(2k)')\n",
        "plt.ylim(0)\n"
      ],
      "execution_count": null,
      "outputs": [
        {
          "output_type": "execute_result",
          "data": {
            "text/plain": [
              "(0.0, 0.9905367809450062)"
            ]
          },
          "metadata": {
            "tags": []
          },
          "execution_count": 48
        },
        {
          "output_type": "display_data",
          "data": {
            "image/png": "[encoded data removed]",
            "text/plain": [
              "<Figure size 360x576 with 2 Axes>"
            ]
          },
          "metadata": {
            "tags": [],
            "needs_background": "light"
          }
        }
      ]
    },
    {
      "cell_type": "markdown",
      "metadata": {
        "id": "_xppX8kDPx4U"
      },
      "source": [
        "**Commentaire**\n",
        "On remarque que la probabilité de premier retour vers l'orgine tend vers 0 en augmentant la longueur de chemin. Cela peut etre justifié par le fait que le nombre totale de trajectoires se multiplié par 2 a chaque fois qu'on ajoute un pas. cependant cette probabilité n'est pas nulle (sauf à l'infini). la meme remarque peut se traduire par la fonction de répartition qui suit une allure logarithmique mais celle ci tends vers une borne qui est 1. "
      ]
    },
    {
      "cell_type": "markdown",
      "metadata": {
        "id": "VOY6VQSkFlnm"
      },
      "source": [
        "##TP2\n",
        "Etude de la loi de l’arcsinus, sur le dernier retour à 0 Soit Sn une marche\n",
        "aléatoire symétrique, faire plusieurs simulations longues de marches aléatoires et\n",
        "visualiser la fonction n → Sn, pour constater que la marche aléatoire a tendance\n",
        "à s’éloigner de 0 pour de longues périodes et qu’il assez probable qu’une marche\n",
        "partant de 0 ne revienne qu’après un temps assez long."
      ]
    },
    {
      "cell_type": "code",
      "metadata": {
        "id": "w5wHVX7qCMQA",
        "colab": {
          "base_uri": "https://localhost:8080/",
          "height": 398
        },
        "outputId": "ef53d11e-1874-4d27-d04a-3695941eb743"
      },
      "source": [
        "def simulerMALongue(etatInitial,p,n):\n",
        "  X=etatInitial\n",
        "  dernierRetour0=0\n",
        "  listeEtat=[X]\n",
        "  for i in range(1,n):\n",
        "    u=rn.uniform(0,1)\n",
        "    if u<p:\n",
        "      X+=1\n",
        "      listeEtat.append(X)\n",
        "    else:\n",
        "      X-=1\n",
        "      listeEtat.append(X)\n",
        "    if X==0:\n",
        "      dernierRetour0=i\n",
        "  return listeEtat,dernierRetour0\n",
        "\n",
        "def proba_dernier_retour_Theorique(t):\n",
        "  return (2/math.pi)*math.asin(math.sqrt(t))\n",
        "\n",
        "\n",
        "\n",
        "\n",
        "def proba_dernier_retour_Simulation(t,DernierRetourTab,Nb_simulation,Nb_pas):\n",
        "  x=[i for i in range(Nb_pas)]\n",
        "  n=0\n",
        "  for i in range(Nb_simulation):\n",
        "    if DernierRetourTab[i]<t*Nb_pas:\n",
        "      n+=1\n",
        "  return n/Nb_simulation\n",
        "\n",
        "def simulation_n_MA(Nb_simulation,Nb_pas):\n",
        "  DernierRetourTab=[]\n",
        "  for i in range(Nb_simulation):\n",
        "    M,dernier=simulerMALongue(0,1/2,Nb_pas)\n",
        "    #plt.plot(x,M)\n",
        "    DernierRetourTab.append(dernier)\n",
        "  return DernierRetourTab\n",
        "\n",
        "\n",
        "Nb_simulation=1000\n",
        "Nb_pas=10000\n",
        "t=0.5\n",
        "DernierRetourTab=simulation_n_MA(Nb_simulation,Nb_pas)\n",
        "proba_theorique=proba_dernier_retour(t)\n",
        "proba_simulation=proba_dernier_retour_Simulation(t,DernierRetourTab,Nb_simulation,Nb_pas)\n",
        "\n",
        "print(\"La probabilité theorique de dernier retour: \",proba_theorique)\n",
        "print(\"La probabilité simulé de dernier retour: \",proba_simulation)\n",
        "\n",
        "print(\"\\n\\nVisualisation d'une simulation:\\n\\n\")\n",
        "M,dernier=simulerMALongue(0,1/2,Nb_pas)\n",
        "plt.plot(x,M)"
      ],
      "execution_count": null,
      "outputs": [
        {
          "output_type": "stream",
          "text": [
            "La probabilité theorique de dernier retour:  0.5000000000000001\n",
            "La probabilité simulé de dernier retour:  0.498\n",
            "\n",
            "\n",
            "Visualisation d'une simulation:\n",
            "\n",
            "\n"
          ],
          "name": "stdout"
        },
        {
          "output_type": "execute_result",
          "data": {
            "text/plain": [
              "[<matplotlib.lines.Line2D at 0x7fc4dc53ae90>]"
            ]
          },
          "metadata": {
            "tags": []
          },
          "execution_count": 46
        },
        {
          "output_type": "display_data",
          "data": {
            "image/png": "[encoded data removed]",
            "text/plain": [
              "<Figure size 432x288 with 1 Axes>"
            ]
          },
          "metadata": {
            "tags": [],
            "needs_background": "light"
          }
        }
      ]
    },
    {
      "cell_type": "code",
      "metadata": {
        "id": "fpAAlz2bFHuB"
      },
      "source": [
        ""
      ],
      "execution_count": null,
      "outputs": []
    },
    {
      "cell_type": "markdown",
      "metadata": {
        "id": "voOTKjKhPmfz"
      },
      "source": [
        "##Commentaire:\n",
        "Dans les résultats précédant, Nous avons fait plusieurs simulation sur des marches aléatoires longues. Nous avons ensuite simulé la probabilité de dernier retour en 0 pour la comparer à la valeur théorique calculé par la loi arcsin. De plus nous avons visualiser les résultats.\n",
        "\n",
        "---\n",
        "Nous remarquons donc que la probabillité simulé et la proba théorique sont plus ou moins equivalente. De plus, On remarque que la marche aléatoire a tendance à s'eloigner de 0 pour de longue periode en effet en calculant et en simulant la proba de dernier retour on remarque que la probabilité que le dernier retour en 0 aie lieu dans le premier quart est de 0.33 donc dans 33% des cas la marche aleatoire ne retourne pas vers 0 pour de longue periode. et dans le reste 67% des cas la marche reviennent à dans les 3 quarts restant ce qui indiquent qu’il assez probable qu’une marche partant de 0 ne revienne qu’après un temps assez long. La meme chose est remarqué visualement à travers le graphe précedent.\n",
        "\n",
        "\n"
      ]
    },
    {
      "cell_type": "code",
      "metadata": {
        "id": "1OD8hIVCSF2S"
      },
      "source": [
        ""
      ],
      "execution_count": null,
      "outputs": []
    }
  ]
}