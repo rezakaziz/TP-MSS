{
  "nbformat": 4,
  "nbformat_minor": 0,
  "metadata": {
    "colab": {
      "name": "TP01: Simulation",
      "provenance": [],
      "collapsed_sections": []
    },
    "kernelspec": {
      "name": "python3",
      "display_name": "Python 3"
    },
    "language_info": {
      "name": "python"
    }
  },
  "cells": [
    {
      "cell_type": "markdown",
      "metadata": {
        "id": "bC_y_uPNX0mH"
      },
      "source": [
        "# **TP N°01: Simulation **\n",
        "\n",
        "AZIZ Rezak SIQ3"
      ]
    },
    {
      "cell_type": "markdown",
      "metadata": {
        "id": "4-YbrFXoYQ63"
      },
      "source": [
        "**1/ Estimer l'integrale suivante par les méthodes de monte Carlo et d'échantillage préferentiel en choisissant une loi gaussienne de moyenne et variance adéquats**\n",
        " $$I=\\int_0^\\pi sinx \\, dx$$"
      ]
    },
    {
      "cell_type": "code",
      "metadata": {
        "id": "8tmi5GCBqGNp"
      },
      "source": [
        "from math import *\n",
        "import random as rn\n",
        "def sinus(x):\n",
        "  return sin(x)"
      ],
      "execution_count": null,
      "outputs": []
    },
    {
      "cell_type": "code",
      "metadata": {
        "id": "xxa9TtNfsF5F"
      },
      "source": [
        ""
      ],
      "execution_count": null,
      "outputs": []
    },
    {
      "cell_type": "markdown",
      "metadata": {
        "id": "B5JEgpR4aSJG"
      },
      "source": [
        "a- On utilise méthode de monté Carlo:\n",
        "\n",
        "\n",
        "```\n",
        "# Algorithme de monte carlo 1\n",
        "nf=0\n",
        "Pour i allant de 0 a n:\n",
        "  generer U1 suivant une loi uniforme sur [a,b]\n",
        "  generer U2 suivant une loi uniforme sur [0,c]\n",
        "  si U2<sin(U1) alors \n",
        "    nf=nf+1\n",
        "  fsi\n",
        "FinPour\n",
        "retourner c*(b-a)*nf/n \n",
        "```\n",
        "\n",
        "\n",
        "\n",
        "```\n",
        "# Algorithme de monté carlo (moyenne)\n",
        "s=0\n",
        "Pour i allant de 1 a n:\n",
        "  generer U suivant une loi un uniforme sur [a,b]\n",
        "  s+=f(U)\n",
        "FinPour\n",
        "retourner s*(b-a)/n\n",
        "```\n",
        "\n",
        "\n",
        "\n"
      ]
    },
    {
      "cell_type": "code",
      "metadata": {
        "colab": {
          "base_uri": "https://localhost:8080/"
        },
        "id": "T_Rs2C3CXzmx",
        "outputId": "7d97d283-49fe-405c-d1c7-9ebfef29791b"
      },
      "source": [
        "def integral_monte_carlo1(f,n,a,b,c):\n",
        "  abcisse=[rn.uniform(a,b) for i in range(n)]\n",
        "  ordonees=[rn.uniform(0,c) for i in range(n)]\n",
        "  nf=0\n",
        "  for i in range(n):\n",
        "    if ordonees[i]<=f(abcisse[i]):\n",
        "      nf+=1\n",
        "  return c*(b-a)*nf/n\n",
        "\n",
        "def integral_monte_carlo2(f,n,a,b,g):\n",
        "  #on utilise la moyenne \n",
        "  abcisse=[rn.uniform(a,b) for i in range(n)]\n",
        "  ordonees=[sin(abcisse[i]) for i in range(n)]\n",
        "  return sum(ordonees)*(b-a)/n\n",
        "\n"
      ],
      "execution_count": null,
      "outputs": [
        {
          "output_type": "execute_result",
          "data": {
            "text/plain": [
              "1.999734399085825"
            ]
          },
          "metadata": {
            "tags": []
          },
          "execution_count": 9
        }
      ]
    },
    {
      "cell_type": "markdown",
      "metadata": {
        "id": "8pwlRGd9s9WK"
      },
      "source": [
        "b- Importance Sampling:"
      ]
    },
    {
      "cell_type": "markdown",
      "metadata": {
        "id": "SVmaaXCZtHSS"
      },
      "source": [
        "Dans un premier temps nous allons visualiser l'allure des fonction pour essayer de choisir les meilleures parametres"
      ]
    },
    {
      "cell_type": "code",
      "metadata": {
        "colab": {
          "base_uri": "https://localhost:8080/",
          "height": 281
        },
        "id": "d7anS7wRqXcA",
        "outputId": "0bba2be6-275f-4f1d-8510-3acb5760766c"
      },
      "source": [
        "import matplotlib.pyplot as plt\n",
        "import numpy as np\n",
        "import scipy.stats\n",
        "x=np.linspace(0,np.pi,100)\n",
        "y=np.sin(x)\n",
        "mean = pi/2\n",
        "std = 0.52\n",
        "\n",
        "y2 = scipy.stats.norm.pdf(x,mean,std)\n",
        "plt.plot(x,y)\n",
        "plt.plot(x,y2)"
      ],
      "execution_count": null,
      "outputs": [
        {
          "output_type": "execute_result",
          "data": {
            "text/plain": [
              "[<matplotlib.lines.Line2D at 0x7f41dc9bcb90>]"
            ]
          },
          "metadata": {
            "tags": []
          },
          "execution_count": 27
        },
        {
          "output_type": "display_data",
          "data": {
            "image/png": "[encoded data removed]",
            "text/plain": [
              "<Figure size 432x288 with 1 Axes>"
            ]
          },
          "metadata": {
            "tags": [],
            "needs_background": "light"
          }
        }
      ]
    },
    {
      "cell_type": "code",
      "metadata": {
        "colab": {
          "base_uri": "https://localhost:8080/"
        },
        "id": "FdfHyj_YtUls",
        "outputId": "abe27071-e1f1-483d-9d5a-c2dacd1884f4"
      },
      "source": [
        "def gen_n_loi_normale(n,mean,std,a,b):\n",
        "  x=[]\n",
        "  i=0\n",
        "  while i<n:\n",
        "    U1=rn.uniform(0,1)\n",
        "    U2=rn.uniform(0,1)\n",
        "    N1=sqrt(-2*log(U1))*cos(2*pi*U2)\n",
        "    X=std*N1+mean\n",
        "    if N1<=b and N1>=a:\n",
        "      x.append(X)\n",
        "      i+=1\n",
        "\n",
        "  return x\n",
        "\n",
        "def density_loi_normale(x,mean,std):\n",
        "  return np.exp(-1*(((x-mean)/std)**2)/2)/(std*sqrt(2*pi))\n",
        "\n",
        "\n",
        "def gen_integrale_sin1(a,b,n):\n",
        "  nb=0\n",
        "  for i in range(n):\n",
        "    x=rn.uniform(a,b)\n",
        "    y=rn.uniform(0,1)\n",
        "    if y<=sin(x):\n",
        "      nb+=1\n",
        "  return (nb/n)*(b-a)\n",
        "\n",
        "\n",
        "def gen_integrale_sin_importance_sampling(a,b,n):\n",
        "  #il faut choisir une densité qui sera presque proportionnelle a |f|\n",
        "  #d'apres le graphe precident on opte pour mean (b-a)/2 et variance 0.8**2 \n",
        "  mean = (b-a)/2\n",
        "  std = 0.51\n",
        "  x=gen_n_loi_normale(n,mean,std,a,b)\n",
        "  x=np.array(x)\n",
        "  yp = density_loi_normale(x,mean,std) \n",
        "  y=np.sin(x)\n",
        "  \n",
        "  s=y/yp\n",
        "  return s.sum()/n\n",
        "\n",
        "\n",
        "gen_integrale_sin_importance_sampling(0,pi,1000000)"
      ],
      "execution_count": null,
      "outputs": [
        {
          "output_type": "execute_result",
          "data": {
            "text/plain": [
              "2.001510331090317"
            ]
          },
          "metadata": {
            "tags": []
          },
          "execution_count": 30
        }
      ]
    },
    {
      "cell_type": "markdown",
      "metadata": {
        "id": "VVhUqEBwtn8q"
      },
      "source": [
        "Comparaison"
      ]
    },
    {
      "cell_type": "code",
      "metadata": {
        "id": "dHBPTFcktfxf"
      },
      "source": [
        "import statistics\n",
        "import pandas as pd\n",
        "resultats=[]\n",
        "monteCarlo1=[]\n",
        "monteCarlo2=[]\n",
        "importanceSampling=[]\n",
        "for i in range(1000):\n",
        "  mc1=integral_monte_carlo1(sinus,10000,0,pi,1)\n",
        "  mc2=integral_monte_carlo2(sinus,10000,0,pi,1)\n",
        "  i_s=gen_integrale_sin_importance_sampling(0,pi,10000)\n",
        "  monteCarlo1.append(mc1)\n",
        "  monteCarlo2.append(mc2)\n",
        "  importanceSampling.append(i_s)\n",
        "\n",
        "resultats.append(statistics.variance(monteCarlo1))\n",
        "resultats.append(statistics.variance(monteCarlo2))\n",
        "resultats.append(statistics.variance(importanceSampling))\n",
        "\n",
        "\n"
      ],
      "execution_count": null,
      "outputs": []
    },
    {
      "cell_type": "code",
      "metadata": {
        "colab": {
          "base_uri": "https://localhost:8080/"
        },
        "id": "PZ4YspRTvh_v",
        "outputId": "af754f16-14a6-4aa0-a995-5a2a220ec697"
      },
      "source": [
        "d = {'': ['MC:Succes echec', 'Mc: moyenne','Importance Samling'], 'moyenne des résultat': [statistics.mean(monteCarlo1), statistics.mean(monteCarlo2),statistics.mean(importanceSampling)], 'variance':[resultats[0],resultats[1],resultats[2]]}\n",
        "df = pd.DataFrame(data=d)\n",
        "print(df)"
      ],
      "execution_count": null,
      "outputs": [
        {
          "output_type": "stream",
          "text": [
            "                       moyenne des résultat  variance\n",
            "0     MC:Succes echec              2.000446  0.000216\n",
            "1         Mc: moyenne              2.000163  0.000099\n",
            "2  Importance Samling              2.001709  0.000171\n"
          ],
          "name": "stdout"
        }
      ]
    },
    {
      "cell_type": "markdown",
      "metadata": {
        "id": "dHEGfCUUxLVm"
      },
      "source": [
        "Resultats:\n",
        "On remarque que la méthode de Monte carlo utilisant la moyenne donne de bon résultats par rapport au deux autres méthodes. De plus, on remarque que la méthode par importance sampling donne de meilleure résultats par rapport a la méthod de monté carlo par succes echec"
      ]
    },
    {
      "cell_type": "markdown",
      "metadata": {
        "id": "SbSq1EU51Bt5"
      },
      "source": [
        "2/ Soit la matrice de probabilité de transition d'une chaine de Markov:\n",
        "$$\\begin{bmatrix} 0 & 1 & 0 \\\\ 0 & 1/2 & 1/2 \\\\ 1/2 & 0 & 1/2 \\end{bmatrix}$$"
      ]
    },
    {
      "cell_type": "markdown",
      "metadata": {
        "id": "tCF_7z3N10vW"
      },
      "source": [
        "a- Ecrire un algorithme qui simule les réalisations de cette chaine\n",
        "\n",
        "\n",
        "```\n",
        "# algorithme de simulation de chaine de markov\n",
        "algorithme simualte_CM(P,nb_etat,N):\n",
        "  X=etat //initial choisi aleatoirement\n",
        "  X_sim=[X] //X_sim une liste contenant les réalisations\n",
        "  for _ in range(N):\n",
        "    i=X //etat precident \n",
        "    X=choose_j(i,P) //choisir l'etat suivant\n",
        "    X_sim.append(X) //ajuter l'etat suivant a la liste \n",
        "  return X_sim\n",
        "```\n",
        "\n"
      ]
    },
    {
      "cell_type": "code",
      "metadata": {
        "colab": {
          "base_uri": "https://localhost:8080/"
        },
        "id": "kyxwzjbXyp9e",
        "outputId": "cbdb3bb2-0ad0-42a1-e077-2ad2636ef3bc"
      },
      "source": [
        "def simualte_CM(P,nb_etat,n):\n",
        "  X=rn.randint(0,nb_etat-1)\n",
        "  X_sim=[X]\n",
        "  for _ in range(n):\n",
        "    i=X\n",
        "    X=choose_j(i,P)\n",
        "    X_sim.append(X)\n",
        "  return X_sim\n",
        "\n",
        "def choose_j(i,P):\n",
        "  p=P[i].copy()\n",
        "  for i in range(1,len(p)):\n",
        "    p[i]+=p[i-1]\n",
        "  r=rn.uniform(0,1)\n",
        "  for i in range(len(p)):\n",
        "    if r<=p[i]:\n",
        "      return i\n",
        "\n",
        "P=[\n",
        "   [0,1,0],\n",
        "   [0,1/2,1/2],\n",
        "   [1/2,0,1/2]\n",
        "   ]\n",
        "nb_etat=3\n",
        "X_sim=simualte_CM(P,3,100)\n",
        "print(X_sim)"
      ],
      "execution_count": null,
      "outputs": [
        {
          "output_type": "stream",
          "text": [
            "[1, 1, 1, 2, 0, 1, 1, 2, 2, 2, 2, 2, 2, 0, 1, 1, 2, 0, 1, 1, 1, 2, 0, 1, 1, 1, 1, 1, 1, 2, 0, 1, 1, 2, 2, 2, 0, 1, 2, 0, 1, 1, 2, 2, 2, 2, 0, 1, 2, 2, 2, 0, 1, 2, 2, 2, 0, 1, 1, 1, 1, 2, 2, 0, 1, 2, 2, 0, 1, 2, 0, 1, 2, 2, 2, 2, 0, 1, 2, 0, 1, 1, 2, 0, 1, 1, 2, 0, 1, 1, 2, 2, 2, 2, 0, 1, 1, 1, 2, 2, 0]\n"
          ],
          "name": "stdout"
        }
      ]
    },
    {
      "cell_type": "markdown",
      "metadata": {
        "id": "Vey2ug663yvO"
      },
      "source": [
        "b- Estimation des probabilités de transition "
      ]
    },
    {
      "cell_type": "code",
      "metadata": {
        "colab": {
          "base_uri": "https://localhost:8080/"
        },
        "id": "jnOlbWym3V-a",
        "outputId": "4ed88b7d-1ca0-4efa-81c9-e93602839bdc"
      },
      "source": [
        "X_sim=simualte_CM(P,3,1000000)\n",
        "P1=[[0.,0.,0.],[0.,0.,0.],[0.,0.,0.]]\n",
        "P1=np.array(P)\n",
        "for i in range(len(X_sim)-1):\n",
        "  P1[X_sim[i]][X_sim[i+1]]+=1\n",
        "for i in range(nb_etat):\n",
        "  P1[i]=P1[i]/P1[i].sum()\n",
        "\n",
        "print(\"Estimation des probabilités de transition\")\n",
        "print(P1)"
      ],
      "execution_count": null,
      "outputs": [
        {
          "output_type": "stream",
          "text": [
            "Estimation des probabilités de transition\n",
            "[[0.         1.         0.        ]\n",
            " [0.         0.50088892 0.49911108]\n",
            " [0.50018017 0.         0.49981983]]\n"
          ],
          "name": "stdout"
        }
      ]
    },
    {
      "cell_type": "markdown",
      "metadata": {
        "id": "yPKXDOsr4UQ9"
      },
      "source": [
        "On remarque que les probabilité de transition converge vers les vraies vvaleur quand on augmente le nombre n indiquant le nombre de variable simulé"
      ]
    },
    {
      "cell_type": "code",
      "metadata": {
        "id": "XxjaVsxz4GmX"
      },
      "source": [
        ""
      ],
      "execution_count": null,
      "outputs": []
    }
  ]
}